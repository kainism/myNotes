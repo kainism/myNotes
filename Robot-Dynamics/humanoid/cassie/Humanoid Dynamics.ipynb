{
 "cells": [
  {
   "cell_type": "markdown",
   "metadata": {},
   "source": [
    "# Humanoid Dynamics Concepts"
   ]
  },
  {
   "cell_type": "markdown",
   "metadata": {},
   "source": [
    "## 1 基本模型\n",
    "### 1.1 拉格朗日力学模型\n",
    "  状态定义：全状态$q=[r, \\phi, \\theta]^T$，$r \\in R^3$是三轴位移向量，$\\phi \\in R^3$是base的欧拉角向量，$\\theta \\in R^n$是各关节的角度。\n",
    "动力学方程：$$\\begin{align}I(q)\\ddot{q}+C(q,\\dot{q})+G(q)  &= u+E(q)^T \\lambda \\\\ E(q) \\dot{q} &= 0 \\end{align}$$\n",
    "其中$I(q)$是广义质量矩阵，$C(q,\\dot{q})$是科里奥利项，$G(q)$是重力项，$u \\in R^{6+n}$是控制项，$f_p$是约束力，$E(q)$是约束力的雅可比矩阵。约束项在不同的任务阶段会不同。接触约束可以通过多个点的接触方程组，或者两点接触方程+两点向量的方向约束（水平向的约束力和旋转力矩）。\n",
    "### 1.2 牛顿-欧拉力学模型\n",
    "状态定义$m$为机器人的总质量；$c$为机器人质心（COM）；$f_i$为机器人所受外力，牛顿力学方程如下，$$m (\\ddot{c}+g) = \\sum_i f_i$$\n",
    "总的角动量定义为$$ L = \\sum_k (x_k-c) \\times m_k \\dot{x_k} + I_k \\omega_k $$\n",
    "其中$x_k$为机器人不同构件$k$的位移，$m_k$和$I_k$为机器人不同部分的质量和惯量；$\\omega_k$为机器人对应部分的角速度。则根据欧拉方程，有 $$\\dot{L} = \\sum_i(p_i-c) \\times f_i$$。其中$p_i$为$f_i$发生的位置。\n",
    "\n",
    "压力中心（Center of Pressure，COP）定义为，$$z^{x,y} = \\frac{\\sum_i f_i^z p_i^{x,y}}{\\sum_i f_i^z}$$。由于接触力$f_i^z$的单向有界特性，所以ZMP一定在所有接触点$p_i^{x,y}$的凸闭包中。\n",
    "\n",
    "对上述压力中心的定义进行重构，得到$$\\sum_i(p_i-z)\\times f_i = \\sum_i (p_i^{x,y}-z^{x,y})\\times f_i = 0$$，该式表明压力中心对质心的力矩为0，因此ZOP也称为Zero-Moment Point(ZMP)。"
   ]
  },
  {
   "cell_type": "markdown",
   "metadata": {},
   "source": [
    "## 2 basic concepts\n",
    "### 质心动力学（Centroidal Dynamics）\n",
    "bipea robot的inertial movement可以分为平动和转动两部分，分别对应动量守恒和角动量守恒。角动量是质心关于足端接触点产生的角动量。\n",
    "### 零空间\n",
    "进行任务分配，比如只动手。矩阵$H$的零空间定义为$$I - pinv(H) H$$\n",
    "### contact mechanics\n",
    "contact wrench cone:摩擦力锥 \n",
    "\n",
    "contact wrench sum: 摩擦力矩集\n",
    "### zero-moment point\n",
    "center of pressure/zero-moment point：承压中心在承压点所包围区域内部。\n"
   ]
  }
 ],
 "metadata": {
  "language_info": {
   "name": "python"
  }
 },
 "nbformat": 4,
 "nbformat_minor": 2
}
