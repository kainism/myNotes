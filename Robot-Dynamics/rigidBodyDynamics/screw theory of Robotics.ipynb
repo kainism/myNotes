{
 "cells": [
  {
   "cell_type": "markdown",
   "metadata": {},
   "source": [
    "# 运动学表述\n",
    "## screw theory（旋量理论）\n",
    "刚体运动可以被刚体某点$P$线速度$v_P$和角速度$\\omega$（默认角速度表述在body系下）唯一表示：（1）刚体所有点的角速度一致；（2）刚体任意点$Q$处的线速度可以由$P$线速度$v_P$和角速度$\\omega$根据kinematic transportation得到，\n",
    "$$v_Q = v_P + \\omega \\times \\vec{QP}$$\n",
    "旋量的定义就是一对满足上述kinematic tranportation的三维向量，为$s_P = (v_P,\\omega)$。显然screw的具体坐标是定义在某个特定点上的。其中，$v_P$被称为moment of the screw，$\\omega$被称为resultant of the screw。\n",
    "\n",
    "显然，任意点$Q$处的screw满足，\n",
    "$$s_Q = (v_Q, \\omega) = v_P + \\omega \\times \\vec{QP}$$\n",
    "\n",
    "只要满足上述代数对即为screw，当screw被用来表征刚体的关于某轴的角速度和沿该轴的线速度时，就被称为twist。twist表述在world frame或者body frame中分别被称为spatial twist 和 body twist。另外，twist的导数也是twist，例如(速度，角速度)是twist，(加速度，角加速度)同样也是twist。\n"
   ]
  },
  {
   "cell_type": "markdown",
   "metadata": {},
   "source": [
    "## twitst与wrench\n",
    "wrench是(force $f$，moment $\\tau_P$)，其中force是施加在刚体上的linear force，moment是施加在刚体的moment of forces（P点处）。twist和wrench live in dual spaces：the motion space and the force space。\n",
    "\n",
    "定义对偶twist（$V = (v_P, \\omega)$, $F = (f, \\tau_P)$）的scalar product为$$V \\cdot F = v_P \\cdot f + \\omega \\cdot \\tau_P$$\n",
    "显然，对于spatial twist和wrench的scalar product，其scarlar product计算结果是功率。\n",
    "\n"
   ]
  }
 ],
 "metadata": {
  "language_info": {
   "name": "python"
  }
 },
 "nbformat": 4,
 "nbformat_minor": 2
}
