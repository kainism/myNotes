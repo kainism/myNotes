{
 "cells": [
  {
   "cell_type": "markdown",
   "metadata": {},
   "source": [
    "# dzhanibekov effect (网球拍定理)\n",
    "Asymmetrical rigid body，according to the euler's equation $$ J \\dot{\\omega} + \\hat{\\omega} J \\omega = \\tau \\quad (1),$$ where J is the moment of inertia, \\omega is angular velocity, $\\hat{*}$ is the cross product matrix of certain vector, and $\\tau$ is the net torque acting on the rigid body.\n",
    "\n",
    "Obviously, when no external torque $\\tau$ acted, the equilibrium state of the spinning rigid body is descripted as follows,  $$ J \\dot{\\omega} + \\hat{\\omega} J \\omega = 0 \\quad (2).$$\n",
    "On the equilibrium state, $\\dot{\\omega} = 0$, combining with above equation, we have $$ \\hat{\\omega} J \\omega = 0  \\quad (3), $$ \n",
    "which means $\\omega$ is paralleled with $J \\omega$, i.e. $J\\omega = \\lambda \\omega$\n",
    "For rigid body, inertia tensor $J$ has 3 eigen values, so J has 3 eigen vectors, and equilibrium $\\omega = \\pm \\  eigen vectors$(6 different vectors, but 3 linear invariant vectors). Perhaps rigid body can spin around 3 different axies! When rigid body rotates about a certain axis with constant angular speed, we call this axis a primary axis (or principle axis).\n",
    "\n",
    "Defining everything in the \"primary frame \" (the XYZ axis $[^Pe_x,\\ ^Pe_y,\\ ^Pe_z]$ corresponding to 3 primary axies). According to equation (1), we have $$ J \\begin{bmatrix} \\dot{\\omega_x} \\\\ \\dot{\\omega_y} \\\\ \\dot{\\omega_z}\\end{bmatrix} + \\begin{bmatrix} \\omega_x \\\\ \\omega_y \\\\ \\omega_z\\end{bmatrix} \\times J \\cdot \\begin{bmatrix} \\omega_x \\\\ \\omega_y \\\\ \\omega_z\\end{bmatrix} = \\tau, \\quad (4)$$\n",
    "Split above equation, \n",
    "$$ \\begin{aligned} & J_{11} \\dot{\\omega_x} + (J_{33}-J_{22})\\omega_y \\omega_z = \\tau_x \\\\ & J_{11} \\dot{\\omega_y} + (J_{11}-J_{33})\\omega_x \\omega_z = \\tau_y \\\\ & J_{33} \\dot{\\omega_z} + (J_{22}-J_{11})\\omega_x \\omega_y = \\tau_z \\quad (5) \\end{aligned}$$\n",
    "\n",
    "Wtihout loss of generality, assum that $J_{11} < J_{22} <J_{33} $\n",
    "\n",
    "When spinning about $^Pe_x$ axis, small disturbation acted on other 2 axies is considered, so we have $$\\omega_x = \\omega_0 \\gg \\omega_y, \\omega_z \\quad (6)$$\n",
    "Where $\\omega_0$ is constant. So we have $$ \\dot{\\omega_y} = \\frac{J_{33}-J_{11}}{J_{22}} \\omega_0 \\omega_z \\\\ \\dot{\\omega_z} = \\frac{J_{11}-J_{22}}{J_{33}} \\omega_0 \\omega_y \\quad (7)$$\n",
    "Written in the form of matrix, $$ \\frac{dt}{d}\\begin{bmatrix} \\omega_y \\\\ \\omega_z \\end{bmatrix} = \\begin{bmatrix} 0 & \\frac{J_{33}-J_{11}}{J_{22}} \\omega_0 \\\\ \\dot{\\omega_z} = \\frac{J_{11}-J_{22}}{J_{33}} \\omega_0 & 0 \\end{bmatrix} \\cdot \\begin{bmatrix} \\omega_y \\\\ \\omega_z\\end{bmatrix} \\quad (8)$$\n",
    "Eigen values of above system matrix is pure image numbers, which means system is marginally stable!\n",
    "\n",
    "Calculating eigen values of systems which spin about $^pe_y$ and $^pe_z$, and we found that only spinning around $^pe_y$ is unstable because $J_{22}$ is between $J_{11}$ and $J_{33}$.\n"
   ]
  }
 ],
 "metadata": {
  "language_info": {
   "name": "python"
  }
 },
 "nbformat": 4,
 "nbformat_minor": 2
}
