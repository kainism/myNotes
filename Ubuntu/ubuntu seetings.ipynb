{
 "cells": [
  {
   "cell_type": "markdown",
   "metadata": {},
   "source": [
    "## Ubuntu Desktop\n",
    "\n",
    "First, install these packages for use, \n",
    "    sudo apt install gnome-shell-extensions chrome-gnome-shell gnome-tweaks\n",
    "\n",
    "\n",
    "Second, install \"User Themes, dash to panel, extension list\" in https://extensions.gnome.org/#\n",
    "\n",
    "## Ubuntu Terminal\n",
    "First, use command line \"sudo apt install fonts-powerline\" to install fonts.\n",
    "\n",
    "Second, clone the repository of synth-shell and install it. \n",
    "\n",
    "    git clone --recursive https://github.com/andresgongora/synth-shell.git  && cd synth-shell && ./setup.sh"
   ]
  },
  {
   "cell_type": "markdown",
   "metadata": {},
   "source": [
    "## Ubuntu pix2latex tools\n",
    "repo address: https://github.com/lukas-blecher/LaTeX-OCR\n",
    "python3.9 or python3.10 works, while python3.12 doesn't."
   ]
  },
  {
   "cell_type": "markdown",
   "metadata": {},
   "source": []
  }
 ],
 "metadata": {
  "language_info": {
   "name": "python"
  }
 },
 "nbformat": 4,
 "nbformat_minor": 2
}
