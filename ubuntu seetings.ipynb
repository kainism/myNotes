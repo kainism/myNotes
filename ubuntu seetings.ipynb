{
 "cells": [
  {
   "cell_type": "markdown",
   "metadata": {},
   "source": [
    "## Ubuntu Desktop\n",
    "\n",
    "First, install these packages for use, \n",
    "\n",
    "sudo apt install gnome-shell-extensions chrome-gnome-shell gnome-tweaks\n",
    "\n",
    "\n",
    "Second, install \"User Themes, dash to panel, extension list\" in https://extensions.gnome.org/#\n",
    "\n",
    "## Ubuntu "
   ]
  }
 ],
 "metadata": {
  "language_info": {
   "name": "python"
  }
 },
 "nbformat": 4,
 "nbformat_minor": 2
}
