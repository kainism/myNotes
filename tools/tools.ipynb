{
 "cells": [
  {
   "cell_type": "markdown",
   "metadata": {},
   "source": [
    "# Zotero 配置\n",
    "Zotero 7安装插件awesome GPT、better bibtex for zotero、better notes for zotero、ethereal reference、translate for zotero、zotcard、zotero attanger（zotero 6安装zotFile）\n",
    "\n",
    "Zotero同步空间采用坚果云。登录坚果云 >> 点击头像 >> 选择账户信息 >> 弹出界面点击安全选项 >> 第三方应用管理。\n",
    "在第三方应用管理即可配置Zotero同步设置，在此可以看到服务器地址、user name、password，这三项信息对应填写到Zotero “设置>同步设置”中即可。\n"
   ]
  }
 ],
 "metadata": {
  "language_info": {
   "name": "python"
  }
 },
 "nbformat": 4,
 "nbformat_minor": 2
}
